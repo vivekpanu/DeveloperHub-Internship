{
  "nbformat": 4,
  "nbformat_minor": 0,
  "metadata": {
    "colab": {
      "provenance": []
    },
    "kernelspec": {
      "name": "python3",
      "display_name": "Python 3"
    },
    "language_info": {
      "name": "python"
    }
  },
  "cells": [
    {
      "cell_type": "markdown",
      "source": [
        "#Energy Consumption Time Series Forecasting"
      ],
      "metadata": {
        "id": "G4qfQh3NPQPC"
      }
    },
    {
      "cell_type": "code",
      "source": [
        "# Install dependencies\n",
        "!pip install kagglehub[pandas-datasets] prophet xgboost --quiet"
      ],
      "metadata": {
        "id": "WZUpu1jAPAf2"
      },
      "execution_count": 1,
      "outputs": []
    },
    {
      "cell_type": "code",
      "execution_count": 2,
      "metadata": {
        "colab": {
          "base_uri": "https://localhost:8080/"
        },
        "id": "QiYIoHGQO8iS",
        "outputId": "21f7ed1d-5e00-4169-a95f-6e8c3dff89c3"
      },
      "outputs": [
        {
          "output_type": "stream",
          "name": "stderr",
          "text": [
            "/tmp/ipython-input-2506359497.py:9: DeprecationWarning: load_dataset is deprecated and will be removed in a future version.\n",
            "  df = kagglehub.load_dataset(\n"
          ]
        },
        {
          "output_type": "stream",
          "name": "stdout",
          "text": [
            "Warning: Looks like you're using an outdated `kagglehub` version (installed: 0.3.12), please consider upgrading to the latest version (0.3.13).\n",
            "Downloading from https://www.kaggle.com/api/v1/datasets/download/imtkaggleteam/household-power-consumption?dataset_version_number=1&file_name=household_power_consumption.csv...\n"
          ]
        },
        {
          "output_type": "stream",
          "name": "stderr",
          "text": [
            "100%|██████████| 9.12M/9.12M [00:00<00:00, 78.1MB/s]"
          ]
        },
        {
          "output_type": "stream",
          "name": "stdout",
          "text": [
            "Extracting zip of household_power_consumption.csv...\n"
          ]
        },
        {
          "output_type": "stream",
          "name": "stderr",
          "text": [
            "\n"
          ]
        },
        {
          "output_type": "stream",
          "name": "stdout",
          "text": [
            "Shape: (1048575, 9)\n",
            "First 5 rows:\n",
            "         Date      Time Global_active_power Global_reactive_power Voltage  \\\n",
            "0  16/12/2006  17:24:00               4.216                 0.418  234.84   \n",
            "1  16/12/2006  17:25:00                5.36                 0.436  233.63   \n",
            "2  16/12/2006  17:26:00               5.374                 0.498  233.29   \n",
            "3  16/12/2006  17:27:00               5.388                 0.502  233.74   \n",
            "4  16/12/2006  17:28:00               3.666                 0.528  235.68   \n",
            "\n",
            "  Global_intensity Sub_metering_1 Sub_metering_2  Sub_metering_3  \n",
            "0             18.4              0              1            17.0  \n",
            "1               23              0              1            16.0  \n",
            "2               23              0              2            17.0  \n",
            "3               23              0              1            17.0  \n",
            "4             15.8              0              1            17.0  \n"
          ]
        }
      ],
      "source": [
        "import kagglehub\n",
        "from kagglehub import KaggleDatasetAdapter\n",
        "import pandas as pd\n",
        "\n",
        "# Set the correct file path\n",
        "file_path = \"household_power_consumption.csv\"  # main dataset file\n",
        "\n",
        "# Load the dataset\n",
        "df = kagglehub.load_dataset(\n",
        "    KaggleDatasetAdapter.PANDAS,\n",
        "    \"imtkaggleteam/household-power-consumption\",\n",
        "    file_path,\n",
        ")\n",
        "\n",
        "print(\"Shape:\", df.shape)\n",
        "print(\"First 5 rows:\")\n",
        "print(df.head())\n"
      ]
    },
    {
      "cell_type": "code",
      "source": [
        "# Combine Date and Time into a single datetime column\n",
        "df['Datetime'] = pd.to_datetime(df['Date'] + ' ' + df['Time'], dayfirst=True)\n",
        "\n",
        "# Convert Global_active_power to numeric\n",
        "df['Global_active_power'] = pd.to_numeric(df['Global_active_power'], errors='coerce')\n",
        "\n",
        "# Drop missing values\n",
        "df = df.dropna(subset=['Global_active_power'])\n",
        "\n",
        "# Set datetime as index\n",
        "df.set_index('Datetime', inplace=True)\n",
        "\n",
        "print(df.info())\n",
        "print(df.head())\n"
      ],
      "metadata": {
        "colab": {
          "base_uri": "https://localhost:8080/"
        },
        "id": "gwAUtnL0PS_M",
        "outputId": "4cc9a8b3-7cbc-4dab-f54e-61b58910b3e1"
      },
      "execution_count": 5,
      "outputs": [
        {
          "output_type": "stream",
          "name": "stderr",
          "text": [
            "/tmp/ipython-input-3082422823.py:2: SettingWithCopyWarning: \n",
            "A value is trying to be set on a copy of a slice from a DataFrame.\n",
            "Try using .loc[row_indexer,col_indexer] = value instead\n",
            "\n",
            "See the caveats in the documentation: https://pandas.pydata.org/pandas-docs/stable/user_guide/indexing.html#returning-a-view-versus-a-copy\n",
            "  df['Datetime'] = pd.to_datetime(df['Date'] + ' ' + df['Time'], dayfirst=True)\n",
            "/tmp/ipython-input-3082422823.py:5: SettingWithCopyWarning: \n",
            "A value is trying to be set on a copy of a slice from a DataFrame.\n",
            "Try using .loc[row_indexer,col_indexer] = value instead\n",
            "\n",
            "See the caveats in the documentation: https://pandas.pydata.org/pandas-docs/stable/user_guide/indexing.html#returning-a-view-versus-a-copy\n",
            "  df['Global_active_power'] = pd.to_numeric(df['Global_active_power'], errors='coerce')\n"
          ]
        },
        {
          "output_type": "stream",
          "name": "stdout",
          "text": [
            "<class 'pandas.core.frame.DataFrame'>\n",
            "DatetimeIndex: 1044506 entries, 2006-12-16 17:24:00 to 2008-12-13 21:38:00\n",
            "Data columns (total 9 columns):\n",
            " #   Column                 Non-Null Count    Dtype  \n",
            "---  ------                 --------------    -----  \n",
            " 0   Date                   1044506 non-null  object \n",
            " 1   Time                   1044506 non-null  object \n",
            " 2   Global_active_power    1044506 non-null  float64\n",
            " 3   Global_reactive_power  1044506 non-null  object \n",
            " 4   Voltage                1044506 non-null  object \n",
            " 5   Global_intensity       1044506 non-null  object \n",
            " 6   Sub_metering_1         1044506 non-null  object \n",
            " 7   Sub_metering_2         1044506 non-null  object \n",
            " 8   Sub_metering_3         1044506 non-null  float64\n",
            "dtypes: float64(2), object(7)\n",
            "memory usage: 79.7+ MB\n",
            "None\n",
            "                           Date      Time  Global_active_power  \\\n",
            "Datetime                                                         \n",
            "2006-12-16 17:24:00  16/12/2006  17:24:00                4.216   \n",
            "2006-12-16 17:25:00  16/12/2006  17:25:00                5.360   \n",
            "2006-12-16 17:26:00  16/12/2006  17:26:00                5.374   \n",
            "2006-12-16 17:27:00  16/12/2006  17:27:00                5.388   \n",
            "2006-12-16 17:28:00  16/12/2006  17:28:00                3.666   \n",
            "\n",
            "                    Global_reactive_power Voltage Global_intensity  \\\n",
            "Datetime                                                             \n",
            "2006-12-16 17:24:00                 0.418  234.84             18.4   \n",
            "2006-12-16 17:25:00                 0.436  233.63               23   \n",
            "2006-12-16 17:26:00                 0.498  233.29               23   \n",
            "2006-12-16 17:27:00                 0.502  233.74               23   \n",
            "2006-12-16 17:28:00                 0.528  235.68             15.8   \n",
            "\n",
            "                    Sub_metering_1 Sub_metering_2  Sub_metering_3  \n",
            "Datetime                                                           \n",
            "2006-12-16 17:24:00              0              1            17.0  \n",
            "2006-12-16 17:25:00              0              1            16.0  \n",
            "2006-12-16 17:26:00              0              2            17.0  \n",
            "2006-12-16 17:27:00              0              1            17.0  \n",
            "2006-12-16 17:28:00              0              1            17.0  \n"
          ]
        }
      ]
    },
    {
      "cell_type": "code",
      "source": [
        "# Resample to hourly average\n",
        "df_hourly = df['Global_active_power'].resample('H').mean()\n",
        "\n",
        "print(df_hourly.head(10))\n"
      ],
      "metadata": {
        "colab": {
          "base_uri": "https://localhost:8080/"
        },
        "id": "jDyACwUGPdI_",
        "outputId": "12a037b1-6a02-4b78-84eb-3794be24c2a6"
      },
      "execution_count": 6,
      "outputs": [
        {
          "output_type": "stream",
          "name": "stdout",
          "text": [
            "Datetime\n",
            "2006-12-16 17:00:00    4.222889\n",
            "2006-12-16 18:00:00    3.632200\n",
            "2006-12-16 19:00:00    3.400233\n",
            "2006-12-16 20:00:00    3.268567\n",
            "2006-12-16 21:00:00    3.056467\n",
            "2006-12-16 22:00:00    2.200133\n",
            "2006-12-16 23:00:00    2.061600\n",
            "2006-12-17 00:00:00    1.882467\n",
            "2006-12-17 01:00:00    3.349400\n",
            "2006-12-17 02:00:00    1.587267\n",
            "Freq: h, Name: Global_active_power, dtype: float64\n"
          ]
        },
        {
          "output_type": "stream",
          "name": "stderr",
          "text": [
            "/tmp/ipython-input-1494064905.py:2: FutureWarning: 'H' is deprecated and will be removed in a future version, please use 'h' instead.\n",
            "  df_hourly = df['Global_active_power'].resample('H').mean()\n"
          ]
        }
      ]
    },
    {
      "cell_type": "code",
      "source": [
        "# Train = up to end of 2007\n",
        "train = df_hourly[:'2007']\n",
        "# Test = from 2008 onwards\n",
        "test = df_hourly['2008':]\n",
        "\n",
        "print(\"Train shape:\", train.shape)\n",
        "print(\"Test shape:\", test.shape)\n"
      ],
      "metadata": {
        "colab": {
          "base_uri": "https://localhost:8080/"
        },
        "id": "pL4z5Ov6PxnC",
        "outputId": "336419fb-379a-4ebd-9aa8-50783ad1792d"
      },
      "execution_count": 9,
      "outputs": [
        {
          "output_type": "stream",
          "name": "stdout",
          "text": [
            "Train shape: (9127,)\n",
            "Test shape: (8350,)\n"
          ]
        }
      ]
    },
    {
      "cell_type": "code",
      "source": [
        "from statsmodels.tsa.arima.model import ARIMA\n",
        "import matplotlib.pyplot as plt\n",
        "\n",
        "# Fit ARIMA model on train\n",
        "model = ARIMA(train, order=(5,1,2), enforce_stationarity=False, enforce_invertibility=False)\n",
        "model_fit = model.fit()\n",
        "\n",
        "\n",
        "# Forecast same length as test\n",
        "forecast = model_fit.forecast(steps=len(test))\n",
        "\n",
        "# Plot train vs test vs forecast\n",
        "plt.figure(figsize=(12,6))\n",
        "plt.plot(train, label='Train')\n",
        "plt.plot(test, label='Test')\n",
        "plt.plot(test.index, forecast, label='Forecast', color='red')\n",
        "plt.legend()\n",
        "plt.show()\n"
      ],
      "metadata": {
        "colab": {
          "base_uri": "https://localhost:8080/",
          "height": 522
        },
        "id": "or0vPvmDPzbE",
        "outputId": "63161556-9225-48ab-f94b-07971b938942"
      },
      "execution_count": 13,
      "outputs": [
        {
          "output_type": "display_data",
          "data": {
            "text/plain": [
              "<Figure size 1200x600 with 1 Axes>"
            ],
            "image/png": "[encoded data removed]"
          },
          "metadata": {}
        }
      ]
    },
    {
      "cell_type": "code",
      "source": [
        "print(model_fit.summary())\n"
      ],
      "metadata": {
        "id": "iHQ_4u4JSY4p",
        "outputId": "680cf5ac-5f0c-419e-d64a-5ad6a6031064",
        "colab": {
          "base_uri": "https://localhost:8080/"
        }
      },
      "execution_count": 14,
      "outputs": [
        {
          "output_type": "stream",
          "name": "stdout",
          "text": [
            "                                SARIMAX Results                                \n",
            "===============================================================================\n",
            "Dep. Variable:     Global_active_power   No. Observations:                 9127\n",
            "Model:                  ARIMA(5, 1, 2)   Log Likelihood               -9331.689\n",
            "Date:                 Thu, 28 Aug 2025   AIC                          18679.377\n",
            "Time:                         15:26:28   BIC                          18736.324\n",
            "Sample:                     12-16-2006   HQIC                         18698.742\n",
            "                          - 12-31-2007                                         \n",
            "Covariance Type:                   opg                                         \n",
            "==============================================================================\n",
            "                 coef    std err          z      P>|z|      [0.025      0.975]\n",
            "------------------------------------------------------------------------------\n",
            "ar.L1         -0.0288      0.161     -0.179      0.858      -0.344       0.286\n",
            "ar.L2          0.5282      0.124      4.276      0.000       0.286       0.770\n",
            "ar.L3         -0.0626      0.017     -3.738      0.000      -0.095      -0.030\n",
            "ar.L4         -0.0630      0.010     -6.217      0.000      -0.083      -0.043\n",
            "ar.L5         -0.0648      0.013     -4.850      0.000      -0.091      -0.039\n",
            "ma.L1         -0.2158      0.161     -1.340      0.180      -0.531       0.100\n",
            "ma.L2         -0.8015      0.162     -4.935      0.000      -1.120      -0.483\n",
            "sigma2         0.4505      0.005     98.147      0.000       0.441       0.459\n",
            "===================================================================================\n",
            "Ljung-Box (L1) (Q):                   0.02   Jarque-Bera (JB):              5027.97\n",
            "Prob(Q):                              0.90   Prob(JB):                         0.00\n",
            "Heteroskedasticity (H):               1.01   Skew:                             1.09\n",
            "Prob(H) (two-sided):                  0.84   Kurtosis:                         5.91\n",
            "===================================================================================\n",
            "\n",
            "Warnings:\n",
            "[1] Covariance matrix calculated using the outer product of gradients (complex-step).\n"
          ]
        }
      ]
    },
    {
      "cell_type": "code",
      "source": [
        "from sklearn.metrics import mean_squared_error, mean_absolute_error\n",
        "\n",
        "mse = mean_squared_error(test, forecast)\n",
        "mae = mean_absolute_error(test, forecast)\n",
        "print(\"MSE:\", mse, \"MAE:\", mae)\n"
      ],
      "metadata": {
        "colab": {
          "base_uri": "https://localhost:8080/"
        },
        "id": "9RMQrJAPP0uD",
        "outputId": "10b43f72-75af-4cbb-da5d-3bf38ba62af8"
      },
      "execution_count": 11,
      "outputs": [
        {
          "output_type": "stream",
          "name": "stdout",
          "text": [
            "MSE: 1.4289845343989003 MAE: 1.0565305941809344\n"
          ]
        }
      ]
    },
    {
      "cell_type": "code",
      "source": [],
      "metadata": {
        "id": "Yp51JSyKR6V4"
      },
      "execution_count": null,
      "outputs": []
    }
  ]
}